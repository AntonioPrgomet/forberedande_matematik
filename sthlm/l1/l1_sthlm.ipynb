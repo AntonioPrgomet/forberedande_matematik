{
 "cells": [
  {
   "cell_type": "code",
   "execution_count": 8,
   "id": "b638abfb",
   "metadata": {},
   "outputs": [],
   "source": [
    "x = 0.9"
   ]
  },
  {
   "cell_type": "code",
   "execution_count": 9,
   "id": "afc2b6ae",
   "metadata": {},
   "outputs": [],
   "source": [
    "VL = 2*(2*x + 3)\n",
    "HL = 3*(5 - 2*x)"
   ]
  },
  {
   "cell_type": "code",
   "execution_count": 10,
   "id": "6798ceba",
   "metadata": {},
   "outputs": [
    {
     "name": "stdout",
     "output_type": "stream",
     "text": [
      "9.6\n",
      "9.600000000000001\n"
     ]
    }
   ],
   "source": [
    "print(VL)\n",
    "print(HL)"
   ]
  },
  {
   "cell_type": "code",
   "execution_count": null,
   "id": "ea0cbad0",
   "metadata": {},
   "outputs": [],
   "source": []
  },
  {
   "cell_type": "code",
   "execution_count": 12,
   "id": "dd30c82d",
   "metadata": {},
   "outputs": [
    {
     "name": "stdout",
     "output_type": "stream",
     "text": [
      "2.154434690031884\n"
     ]
    }
   ],
   "source": [
    "x = 10**(1/3)\n",
    "print(x)"
   ]
  },
  {
   "cell_type": "code",
   "execution_count": 13,
   "id": "75999140",
   "metadata": {},
   "outputs": [
    {
     "data": {
      "text/plain": [
       "10.000000000000002"
      ]
     },
     "execution_count": 13,
     "metadata": {},
     "output_type": "execute_result"
    }
   ],
   "source": [
    "x**3"
   ]
  },
  {
   "cell_type": "code",
   "execution_count": null,
   "id": "6f4ac484",
   "metadata": {},
   "outputs": [],
   "source": []
  },
  {
   "cell_type": "code",
   "execution_count": 16,
   "id": "2a2bb4e9",
   "metadata": {},
   "outputs": [
    {
     "data": {
      "text/plain": [
       "14750"
      ]
     },
     "execution_count": 16,
     "metadata": {},
     "output_type": "execute_result"
    }
   ],
   "source": [
    "750*19 + 500"
   ]
  },
  {
   "cell_type": "code",
   "execution_count": 20,
   "id": "dc9f7802",
   "metadata": {},
   "outputs": [
    {
     "data": {
      "text/plain": [
       "14999.9999975"
      ]
     },
     "execution_count": 20,
     "metadata": {},
     "output_type": "execute_result"
    }
   ],
   "source": [
    "750*19.33333333 + 500"
   ]
  },
  {
   "cell_type": "code",
   "execution_count": null,
   "id": "880b2b72",
   "metadata": {},
   "outputs": [],
   "source": []
  },
  {
   "cell_type": "code",
   "execution_count": 22,
   "id": "93053d70",
   "metadata": {},
   "outputs": [],
   "source": [
    "import matplotlib.pyplot as plt\n",
    "import numpy as np"
   ]
  },
  {
   "cell_type": "code",
   "execution_count": 33,
   "id": "d44662ea",
   "metadata": {},
   "outputs": [],
   "source": [
    "x = np.linspace(-4, 4, 10)\n",
    "# print(x)"
   ]
  },
  {
   "cell_type": "code",
   "execution_count": 35,
   "id": "0d3c1e16",
   "metadata": {},
   "outputs": [
    {
     "data": {
      "text/plain": [
       "[<matplotlib.lines.Line2D at 0x27ea9cb48b0>]"
      ]
     },
     "execution_count": 35,
     "metadata": {},
     "output_type": "execute_result"
    },
    {
     "data": {
      "image/png": "[encoded data removed]",
      "text/plain": [
       "<Figure size 432x288 with 1 Axes>"
      ]
     },
     "metadata": {
      "needs_background": "light"
     },
     "output_type": "display_data"
    }
   ],
   "source": [
    "plt.plot(x, x**2)"
   ]
  },
  {
   "cell_type": "code",
   "execution_count": 37,
   "id": "0818a974",
   "metadata": {},
   "outputs": [],
   "source": [
    "# 10/0"
   ]
  },
  {
   "cell_type": "code",
   "execution_count": null,
   "id": "0ee566fb",
   "metadata": {},
   "outputs": [],
   "source": []
  },
  {
   "cell_type": "code",
   "execution_count": 41,
   "id": "13f7c2b0",
   "metadata": {},
   "outputs": [
    {
     "name": "stdout",
     "output_type": "stream",
     "text": [
      "log(100) 2.0\n",
      "100.0\n"
     ]
    }
   ],
   "source": [
    "import math\n",
    "\n",
    "print('log(100)', math.log10(100))\n",
    "print(10**(math.log10(100)))"
   ]
  },
  {
   "cell_type": "code",
   "execution_count": 44,
   "id": "760970ae",
   "metadata": {},
   "outputs": [
    {
     "name": "stdout",
     "output_type": "stream",
     "text": [
      "0.3998455200953601\n"
     ]
    }
   ],
   "source": [
    "lösning = ((math.log10(585))/(2*math.log10(3))) - 2.5\n",
    "print(lösning)"
   ]
  },
  {
   "cell_type": "code",
   "execution_count": 45,
   "id": "5ed87084",
   "metadata": {},
   "outputs": [
    {
     "data": {
      "text/plain": [
       "585.0000000000002"
      ]
     },
     "execution_count": 45,
     "metadata": {},
     "output_type": "execute_result"
    }
   ],
   "source": [
    "3**(2*lösning + 5)"
   ]
  },
  {
   "cell_type": "code",
   "execution_count": null,
   "id": "bd87251e",
   "metadata": {},
   "outputs": [],
   "source": []
  }
 ],
 "metadata": {
  "kernelspec": {
   "display_name": "Python 3 (ipykernel)",
   "language": "python",
   "name": "python3"
  },
  "language_info": {
   "codemirror_mode": {
    "name": "ipython",
    "version": 3
   },
   "file_extension": ".py",
   "mimetype": "text/x-python",
   "name": "python",
   "nbconvert_exporter": "python",
   "pygments_lexer": "ipython3",
   "version": "3.8.0"
  }
 },
 "nbformat": 4,
 "nbformat_minor": 5
}
