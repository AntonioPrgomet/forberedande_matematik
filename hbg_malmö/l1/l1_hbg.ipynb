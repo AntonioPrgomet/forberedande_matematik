{
 "cells": [
  {
   "cell_type": "code",
   "execution_count": 9,
   "id": "8c7a2fa4",
   "metadata": {},
   "outputs": [],
   "source": [
    "x = 0.9"
   ]
  },
  {
   "cell_type": "code",
   "execution_count": 10,
   "id": "c65bad58",
   "metadata": {},
   "outputs": [],
   "source": [
    "vl = 2*(2*x+3)\n",
    "hl = 3*(5-2*x)"
   ]
  },
  {
   "cell_type": "code",
   "execution_count": 11,
   "id": "a18eb1c8",
   "metadata": {},
   "outputs": [
    {
     "name": "stdout",
     "output_type": "stream",
     "text": [
      "9.6\n",
      "9.600000000000001\n"
     ]
    }
   ],
   "source": [
    "print(vl)\n",
    "print(hl)"
   ]
  },
  {
   "cell_type": "code",
   "execution_count": 12,
   "id": "699fdd5d",
   "metadata": {},
   "outputs": [
    {
     "data": {
      "text/plain": [
       "2.154434690031884"
      ]
     },
     "execution_count": 12,
     "metadata": {},
     "output_type": "execute_result"
    }
   ],
   "source": [
    "10**(1/3)"
   ]
  },
  {
   "cell_type": "code",
   "execution_count": 13,
   "id": "1d0934dd",
   "metadata": {},
   "outputs": [
    {
     "data": {
      "text/plain": [
       "10.000000000000002"
      ]
     },
     "execution_count": 13,
     "metadata": {},
     "output_type": "execute_result"
    }
   ],
   "source": [
    "2.154434690031884**3"
   ]
  },
  {
   "cell_type": "code",
   "execution_count": 19,
   "id": "52114fb9",
   "metadata": {},
   "outputs": [],
   "source": [
    "import numpy as np\n",
    "import matplotlib.pyplot as plt"
   ]
  },
  {
   "cell_type": "code",
   "execution_count": 26,
   "id": "0b662e8b",
   "metadata": {},
   "outputs": [
    {
     "data": {
      "text/plain": [
       "[<matplotlib.lines.Line2D at 0x1ee1c2b5e50>]"
      ]
     },
     "execution_count": 26,
     "metadata": {},
     "output_type": "execute_result"
    },
    {
     "data": {
      "image/png": "[encoded data removed]",
      "text/plain": [
       "<Figure size 432x288 with 1 Axes>"
      ]
     },
     "metadata": {
      "needs_background": "light"
     },
     "output_type": "display_data"
    }
   ],
   "source": [
    "x = np.linspace(-10, 10, 100)\n",
    "# print(x)\n",
    "plt.plot(x, 500 + 750*x, '*')"
   ]
  },
  {
   "cell_type": "code",
   "execution_count": 27,
   "id": "a53669ef",
   "metadata": {},
   "outputs": [
    {
     "data": {
      "text/plain": [
       "19.333333333333332"
      ]
     },
     "execution_count": 27,
     "metadata": {},
     "output_type": "execute_result"
    }
   ],
   "source": [
    "14500/750"
   ]
  },
  {
   "cell_type": "code",
   "execution_count": 28,
   "id": "dd07030f",
   "metadata": {},
   "outputs": [],
   "source": [
    "import math"
   ]
  },
  {
   "cell_type": "code",
   "execution_count": 29,
   "id": "c85edd5d",
   "metadata": {},
   "outputs": [
    {
     "data": {
      "text/plain": [
       "2.0"
      ]
     },
     "execution_count": 29,
     "metadata": {},
     "output_type": "execute_result"
    }
   ],
   "source": [
    "math.log10(100)"
   ]
  },
  {
   "cell_type": "code",
   "execution_count": 30,
   "id": "ffbe5a4e",
   "metadata": {},
   "outputs": [
    {
     "data": {
      "text/plain": [
       "1.584962500721156"
      ]
     },
     "execution_count": 30,
     "metadata": {},
     "output_type": "execute_result"
    }
   ],
   "source": [
    "math.log10(3)/math.log10(2)"
   ]
  },
  {
   "cell_type": "code",
   "execution_count": 31,
   "id": "258197f4",
   "metadata": {},
   "outputs": [
    {
     "data": {
      "text/plain": [
       "3.0000779785716363"
      ]
     },
     "execution_count": 31,
     "metadata": {},
     "output_type": "execute_result"
    }
   ],
   "source": [
    "2**(1.585)"
   ]
  },
  {
   "cell_type": "code",
   "execution_count": null,
   "id": "a535d5b8",
   "metadata": {},
   "outputs": [],
   "source": []
  },
  {
   "cell_type": "code",
   "execution_count": 33,
   "id": "47185ffc",
   "metadata": {},
   "outputs": [
    {
     "name": "stdout",
     "output_type": "stream",
     "text": [
      "0.31452745191607434\n"
     ]
    }
   ],
   "source": [
    "x = (math.log10(485)/(2*math.log10(3))) - 2.5\n",
    "print(x)"
   ]
  },
  {
   "cell_type": "code",
   "execution_count": 34,
   "id": "5d616aba",
   "metadata": {},
   "outputs": [
    {
     "data": {
      "text/plain": [
       "484.9999999999999"
      ]
     },
     "execution_count": 34,
     "metadata": {},
     "output_type": "execute_result"
    }
   ],
   "source": [
    "3**(2*x + 5)"
   ]
  },
  {
   "cell_type": "code",
   "execution_count": null,
   "id": "e762b363",
   "metadata": {},
   "outputs": [],
   "source": []
  }
 ],
 "metadata": {
  "kernelspec": {
   "display_name": "Python 3 (ipykernel)",
   "language": "python",
   "name": "python3"
  },
  "language_info": {
   "codemirror_mode": {
    "name": "ipython",
    "version": 3
   },
   "file_extension": ".py",
   "mimetype": "text/x-python",
   "name": "python",
   "nbconvert_exporter": "python",
   "pygments_lexer": "ipython3",
   "version": "3.9.7"
  }
 },
 "nbformat": 4,
 "nbformat_minor": 5
}
